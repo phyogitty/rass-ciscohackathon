{
 "cells": [
  {
   "cell_type": "code",
   "execution_count": null,
   "metadata": {},
   "outputs": [],
   "source": [
    "import pickle\n",
    "import pandas as pd\n",
    "import numpy as np\n",
    "from sklearn.feature_extraction.text import CountVectorizer\n",
    "from sklearn.feature_extraction.text import TfidfTransformer\n",
    "import import_ipynb\n",
    "\n",
    "pkl_filename = \"usefulness-classify-model.pkl\"\n",
    "with open(pkl_filename, 'rb') as file:  \n",
    "    pkl_linear_svc = pickle.load(file)\n",
    "\n",
    "X_train_fromCSV = pd.read_csv('x_train.csv')\n",
    "X_train_fromCSV = X_train_fromCSV.set_index('Unnamed: 0')\n",
    "X_train_fromCSV = X_train_fromCSV['Body']\n",
    "# print(X_train_fromCSV.shape, \" \", X_train_fromCSV.dtype)\n",
    "# print(\"tf_transformer shape: \", tf_transformer.shape)\n",
    "# transform the data and predict the usefulness with ML model\n",
    "def predict_usefulness(data):\n",
    "    count_vect_ = CountVectorizer()\n",
    "    X_train_counts_ = count_vect_.fit_transform(X_train_fromCSV)\n",
    "    tf_transformer_ = TfidfTransformer().fit(X_train_counts_)\n",
    "\n",
    "    #c, t = train_data.fitted()\n",
    "    p_count = count_vect_.transform([data])\n",
    "    p_tfidf = tf_transformer_.transform(p_count)\n",
    "    prediction = pkl_linear_svc.predict(p_tfidf)\n",
    "    return prediction[0]"
   ]
  }
 ],
 "metadata": {
  "kernelspec": {
   "display_name": "Python 3",
   "language": "python",
   "name": "python3"
  },
  "language_info": {
   "codemirror_mode": {
    "name": "ipython",
    "version": 3
   },
   "file_extension": ".py",
   "mimetype": "text/x-python",
   "name": "python",
   "nbconvert_exporter": "python",
   "pygments_lexer": "ipython3",
   "version": "3.8.5"
  }
 },
 "nbformat": 4,
 "nbformat_minor": 4
}
