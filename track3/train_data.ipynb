{
 "cells": [
  {
   "cell_type": "code",
   "execution_count": 1,
   "metadata": {},
   "outputs": [],
   "source": [
    "import numpy as np\n",
    "import pandas as pd\n",
    "import matplotlib.pyplot as plt\n",
    "import seaborn as sns\n"
   ]
  },
  {
   "cell_type": "code",
   "execution_count": 2,
   "metadata": {},
   "outputs": [
    {
     "data": {
      "text/html": [
       "<div>\n",
       "<style scoped>\n",
       "    .dataframe tbody tr th:only-of-type {\n",
       "        vertical-align: middle;\n",
       "    }\n",
       "\n",
       "    .dataframe tbody tr th {\n",
       "        vertical-align: top;\n",
       "    }\n",
       "\n",
       "    .dataframe thead th {\n",
       "        text-align: right;\n",
       "    }\n",
       "</style>\n",
       "<table border=\"1\" class=\"dataframe\">\n",
       "  <thead>\n",
       "    <tr style=\"text-align: right;\">\n",
       "      <th></th>\n",
       "      <th>from</th>\n",
       "      <th>to</th>\n",
       "      <th>subject</th>\n",
       "      <th>body</th>\n",
       "      <th>is_useful</th>\n",
       "    </tr>\n",
       "  </thead>\n",
       "  <tbody>\n",
       "    <tr>\n",
       "      <th>0</th>\n",
       "      <td>phillip.allen@enron.com</td>\n",
       "      <td>tim.belden@enron.com</td>\n",
       "      <td>NaN</td>\n",
       "      <td>Here is our forecast</td>\n",
       "      <td>0</td>\n",
       "    </tr>\n",
       "    <tr>\n",
       "      <th>1</th>\n",
       "      <td>phillip.allen@enron.com</td>\n",
       "      <td>john.lavorato@enron.com</td>\n",
       "      <td>Re</td>\n",
       "      <td>Traveling to have a business meeting takes the...</td>\n",
       "      <td>0</td>\n",
       "    </tr>\n",
       "    <tr>\n",
       "      <th>2</th>\n",
       "      <td>phillip.allen@enron.com</td>\n",
       "      <td>leah.arsdall@enron.com</td>\n",
       "      <td>Re</td>\n",
       "      <td>test successful.  way to go!!!</td>\n",
       "      <td>0</td>\n",
       "    </tr>\n",
       "    <tr>\n",
       "      <th>3</th>\n",
       "      <td>phillip.allen@enron.com</td>\n",
       "      <td>randall.gay@enron.com</td>\n",
       "      <td>NaN</td>\n",
       "      <td>Randy,Can you send me a schedule of the salary...</td>\n",
       "      <td>1</td>\n",
       "    </tr>\n",
       "    <tr>\n",
       "      <th>4</th>\n",
       "      <td>phillip.allen@enron.com</td>\n",
       "      <td>greg.piper@enron.com</td>\n",
       "      <td>Re</td>\n",
       "      <td>NaN</td>\n",
       "      <td>0</td>\n",
       "    </tr>\n",
       "  </tbody>\n",
       "</table>\n",
       "</div>"
      ],
      "text/plain": [
       "                      from                       to subject  \\\n",
       "0  phillip.allen@enron.com     tim.belden@enron.com     NaN   \n",
       "1  phillip.allen@enron.com  john.lavorato@enron.com      Re   \n",
       "2  phillip.allen@enron.com   leah.arsdall@enron.com      Re   \n",
       "3  phillip.allen@enron.com    randall.gay@enron.com     NaN   \n",
       "4  phillip.allen@enron.com     greg.piper@enron.com      Re   \n",
       "\n",
       "                                                body  is_useful  \n",
       "0                               Here is our forecast          0  \n",
       "1  Traveling to have a business meeting takes the...          0  \n",
       "2                     test successful.  way to go!!!          0  \n",
       "3  Randy,Can you send me a schedule of the salary...          1  \n",
       "4                                                NaN          0  "
      ]
     },
     "execution_count": 2,
     "metadata": {},
     "output_type": "execute_result"
    }
   ],
   "source": [
    "orig_df = pd.read_csv('labeled_data_100k.csv')\n",
    "orig_df.head()"
   ]
  },
  {
   "cell_type": "code",
   "execution_count": 3,
   "metadata": {},
   "outputs": [
    {
     "data": {
      "text/html": [
       "<div>\n",
       "<style scoped>\n",
       "    .dataframe tbody tr th:only-of-type {\n",
       "        vertical-align: middle;\n",
       "    }\n",
       "\n",
       "    .dataframe tbody tr th {\n",
       "        vertical-align: top;\n",
       "    }\n",
       "\n",
       "    .dataframe thead th {\n",
       "        text-align: right;\n",
       "    }\n",
       "</style>\n",
       "<table border=\"1\" class=\"dataframe\">\n",
       "  <thead>\n",
       "    <tr style=\"text-align: right;\">\n",
       "      <th></th>\n",
       "      <th>Body</th>\n",
       "      <th>Useful</th>\n",
       "      <th>category_id</th>\n",
       "    </tr>\n",
       "  </thead>\n",
       "  <tbody>\n",
       "    <tr>\n",
       "      <th>0</th>\n",
       "      <td>Here is our forecast</td>\n",
       "      <td>0</td>\n",
       "      <td>0</td>\n",
       "    </tr>\n",
       "    <tr>\n",
       "      <th>1</th>\n",
       "      <td>Traveling to have a business meeting takes the...</td>\n",
       "      <td>0</td>\n",
       "      <td>0</td>\n",
       "    </tr>\n",
       "    <tr>\n",
       "      <th>2</th>\n",
       "      <td>test successful.  way to go!!!</td>\n",
       "      <td>0</td>\n",
       "      <td>0</td>\n",
       "    </tr>\n",
       "    <tr>\n",
       "      <th>3</th>\n",
       "      <td>Randy,Can you send me a schedule of the salary...</td>\n",
       "      <td>1</td>\n",
       "      <td>1</td>\n",
       "    </tr>\n",
       "    <tr>\n",
       "      <th>4</th>\n",
       "      <td>no body</td>\n",
       "      <td>0</td>\n",
       "      <td>0</td>\n",
       "    </tr>\n",
       "  </tbody>\n",
       "</table>\n",
       "</div>"
      ],
      "text/plain": [
       "                                                Body  Useful  category_id\n",
       "0                               Here is our forecast       0            0\n",
       "1  Traveling to have a business meeting takes the...       0            0\n",
       "2                     test successful.  way to go!!!       0            0\n",
       "3  Randy,Can you send me a schedule of the salary...       1            1\n",
       "4                                            no body       0            0"
      ]
     },
     "execution_count": 3,
     "metadata": {},
     "output_type": "execute_result"
    }
   ],
   "source": [
    "df = orig_df.rename(columns={\"body\": \"Body\", \"is_useful\": \"Useful\"}, errors=\"raise\")\n",
    "df = df[['Body', 'Useful']]\n",
    "df['category_id'] = df['Useful']\n",
    "df['Body'] = df['Body'].fillna(\"no body\")\n",
    "df.head()"
   ]
  },
  {
   "cell_type": "code",
   "execution_count": 4,
   "metadata": {},
   "outputs": [],
   "source": [
    "from io import StringIO\n",
    "\n",
    "def set_status(key):\n",
    "    if key == 1:\n",
    "        return \"Useful\"\n",
    "    elif key == 0:\n",
    "        return \"Not-Useful\"\n",
    "\n",
    "col = ['Useful', 'Body']\n",
    "df = df[col]\n",
    "df = df[pd.notnull(df['Body'])]\n",
    "df.columns = ['Useful', 'Body']\n",
    "df['category_id'] = df['Useful']\n",
    "df['Useful'] = df['category_id'].apply(set_status)\n",
    "category_id_df = df[['Useful', 'category_id']].sort_values('category_id')\n",
    "category_to_id = dict(category_id_df.values)\n",
    "id_to_category = dict(category_id_df[['category_id', 'Useful']].values)\n",
    "df = df.head(3000)"
   ]
  },
  {
   "cell_type": "markdown",
   "metadata": {},
   "source": [
    "<h2>Using Linear Regression SVC</h2>"
   ]
  },
  {
   "cell_type": "code",
   "execution_count": 5,
   "metadata": {},
   "outputs": [],
   "source": [
    "from sklearn.model_selection import train_test_split\n",
    "from sklearn.feature_extraction.text import CountVectorizer\n",
    "from sklearn.feature_extraction.text import TfidfTransformer\n",
    "from sklearn.naive_bayes import MultinomialNB\n",
    "\n",
    "from sklearn.linear_model import LogisticRegression\n",
    "from sklearn.ensemble import RandomForestClassifier\n",
    "from sklearn.svm import LinearSVC\n",
    "from sklearn.model_selection import cross_val_score\n",
    "\n",
    "from sklearn.feature_extraction.text import TfidfTransformer\n",
    "from sklearn.feature_extraction.text import CountVectorizer\n",
    "from sklearn.preprocessing import LabelEncoder"
   ]
  },
  {
   "cell_type": "code",
   "execution_count": 6,
   "metadata": {},
   "outputs": [
    {
     "name": "stdout",
     "output_type": "stream",
     "text": [
      "['Not-Useful' 'Useful']\n"
     ]
    }
   ],
   "source": [
    "labels = df['Useful']\n",
    "text = df['Body']\n",
    "\n",
    "X_train, X_test, y_train, y_test = train_test_split(text, labels, random_state=0, test_size=0.3)\n",
    "\n",
    "count_vect = CountVectorizer()\n",
    "X_train_counts = count_vect.fit_transform(X_train)\n",
    "tf_transformer = TfidfTransformer().fit(X_train_counts)\n",
    "X_train_transformed = tf_transformer.transform(X_train_counts)\n",
    "\n",
    "X_test_counts = count_vect.transform(X_test)\n",
    "X_test_transformed = tf_transformer.transform(X_test_counts)\n",
    "\n",
    "labels = LabelEncoder()\n",
    "y_train_labels_fit = labels.fit(y_train)\n",
    "y_train_lables_trf = labels.transform(y_train)\n",
    "\n",
    "print(labels.classes_)"
   ]
  },
  {
   "cell_type": "code",
   "execution_count": 7,
   "metadata": {},
   "outputs": [
    {
     "name": "stdout",
     "output_type": "stream",
     "text": [
      "Average accuracy on test set=0.9744444444444444\n"
     ]
    }
   ],
   "source": [
    "from sklearn.svm import LinearSVC\n",
    "from sklearn.calibration import CalibratedClassifierCV\n",
    "\n",
    "linear_svc = LinearSVC()\n",
    "clf = linear_svc.fit(X_train_transformed,y_train_lables_trf)\n",
    "\n",
    "calibrated_svc = CalibratedClassifierCV(base_estimator=linear_svc,\n",
    "                                        cv=\"prefit\")\n",
    "\n",
    "calibrated_svc.fit(X_train_transformed,y_train_lables_trf)\n",
    "predicted = calibrated_svc.predict(X_test_transformed)    # predict on X_test\n",
    "    \n",
    "print('Average accuracy on test set={}'.format(np.mean(predicted == labels.transform(y_test))))"
   ]
  },
  {
   "cell_type": "markdown",
   "metadata": {},
   "source": [
    "<h3>Testing Manually Labeled Data | Count : 90</h3>"
   ]
  },
  {
   "cell_type": "code",
   "execution_count": 8,
   "metadata": {},
   "outputs": [
    {
     "data": {
      "text/html": [
       "<div>\n",
       "<style scoped>\n",
       "    .dataframe tbody tr th:only-of-type {\n",
       "        vertical-align: middle;\n",
       "    }\n",
       "\n",
       "    .dataframe tbody tr th {\n",
       "        vertical-align: top;\n",
       "    }\n",
       "\n",
       "    .dataframe thead th {\n",
       "        text-align: right;\n",
       "    }\n",
       "</style>\n",
       "<table border=\"1\" class=\"dataframe\">\n",
       "  <thead>\n",
       "    <tr style=\"text-align: right;\">\n",
       "      <th></th>\n",
       "      <th>Useful</th>\n",
       "      <th>Body</th>\n",
       "      <th>email_subject</th>\n",
       "    </tr>\n",
       "  </thead>\n",
       "  <tbody>\n",
       "    <tr>\n",
       "      <th>0</th>\n",
       "      <td>1.0</td>\n",
       "      <td>\"meeting tmr. join webex\"</td>\n",
       "      <td>\"cisco hackathon meeting\"</td>\n",
       "    </tr>\n",
       "    <tr>\n",
       "      <th>1</th>\n",
       "      <td>1.0</td>\n",
       "      <td>\"You are part of the Group 1 student activatio...</td>\n",
       "      <td>\"Important Notification\"</td>\n",
       "    </tr>\n",
       "    <tr>\n",
       "      <th>2</th>\n",
       "      <td>0.0</td>\n",
       "      <td>\"The wait is over—your Robinhood tax document ...</td>\n",
       "      <td>\"Ready to download\"</td>\n",
       "    </tr>\n",
       "    <tr>\n",
       "      <th>3</th>\n",
       "      <td>0.0</td>\n",
       "      <td>\"Hi, We’ve recently launched a new Google Pay ...</td>\n",
       "      <td>NaN</td>\n",
       "    </tr>\n",
       "    <tr>\n",
       "      <th>4</th>\n",
       "      <td>0.0</td>\n",
       "      <td>\"I am sending the documents now.\"</td>\n",
       "      <td>\"Re: Benefits\"</td>\n",
       "    </tr>\n",
       "  </tbody>\n",
       "</table>\n",
       "</div>"
      ],
      "text/plain": [
       "   Useful                                               Body  \\\n",
       "0     1.0                         \"meeting tmr. join webex\"    \n",
       "1     1.0  \"You are part of the Group 1 student activatio...   \n",
       "2     0.0  \"The wait is over—your Robinhood tax document ...   \n",
       "3     0.0  \"Hi, We’ve recently launched a new Google Pay ...   \n",
       "4     0.0                  \"I am sending the documents now.\"   \n",
       "\n",
       "               email_subject  \n",
       "0  \"cisco hackathon meeting\"  \n",
       "1   \"Important Notification\"  \n",
       "2        \"Ready to download\"  \n",
       "3                        NaN  \n",
       "4             \"Re: Benefits\"  "
      ]
     },
     "execution_count": 8,
     "metadata": {},
     "output_type": "execute_result"
    }
   ],
   "source": [
    "test_90 = pd.read_csv('test_90.csv')\n",
    "test_90.head()"
   ]
  },
  {
   "cell_type": "code",
   "execution_count": 9,
   "metadata": {},
   "outputs": [],
   "source": [
    "# a method to remove the double quotes from start and end\n",
    "def remove_quotes(text):\n",
    "    if text is np.nan: \n",
    "        return \"no subject\"\n",
    "    if text != None and type(text) != float:\n",
    "        return text[1:len(text)-1]\n",
    "    return text"
   ]
  },
  {
   "cell_type": "code",
   "execution_count": 10,
   "metadata": {},
   "outputs": [
    {
     "data": {
      "text/html": [
       "<div>\n",
       "<style scoped>\n",
       "    .dataframe tbody tr th:only-of-type {\n",
       "        vertical-align: middle;\n",
       "    }\n",
       "\n",
       "    .dataframe tbody tr th {\n",
       "        vertical-align: top;\n",
       "    }\n",
       "\n",
       "    .dataframe thead th {\n",
       "        text-align: right;\n",
       "    }\n",
       "</style>\n",
       "<table border=\"1\" class=\"dataframe\">\n",
       "  <thead>\n",
       "    <tr style=\"text-align: right;\">\n",
       "      <th></th>\n",
       "      <th>Useful</th>\n",
       "      <th>Body</th>\n",
       "      <th>email_subject</th>\n",
       "    </tr>\n",
       "  </thead>\n",
       "  <tbody>\n",
       "    <tr>\n",
       "      <th>0</th>\n",
       "      <td>1</td>\n",
       "      <td>meeting tmr. join webex\"</td>\n",
       "      <td>cisco hackathon meeting</td>\n",
       "    </tr>\n",
       "    <tr>\n",
       "      <th>1</th>\n",
       "      <td>1</td>\n",
       "      <td>You are part of the Group 1 student activation...</td>\n",
       "      <td>Important Notification</td>\n",
       "    </tr>\n",
       "    <tr>\n",
       "      <th>2</th>\n",
       "      <td>0</td>\n",
       "      <td>The wait is over—your Robinhood tax document i...</td>\n",
       "      <td>Ready to download</td>\n",
       "    </tr>\n",
       "    <tr>\n",
       "      <th>3</th>\n",
       "      <td>0</td>\n",
       "      <td>Hi, We’ve recently launched a new Google Pay a...</td>\n",
       "      <td>no subject</td>\n",
       "    </tr>\n",
       "    <tr>\n",
       "      <th>4</th>\n",
       "      <td>0</td>\n",
       "      <td>I am sending the documents now.</td>\n",
       "      <td>Re: Benefits</td>\n",
       "    </tr>\n",
       "  </tbody>\n",
       "</table>\n",
       "</div>"
      ],
      "text/plain": [
       "   Useful                                               Body  \\\n",
       "0       1                           meeting tmr. join webex\"   \n",
       "1       1  You are part of the Group 1 student activation...   \n",
       "2       0  The wait is over—your Robinhood tax document i...   \n",
       "3       0  Hi, We’ve recently launched a new Google Pay a...   \n",
       "4       0                    I am sending the documents now.   \n",
       "\n",
       "             email_subject  \n",
       "0  cisco hackathon meeting  \n",
       "1   Important Notification  \n",
       "2        Ready to download  \n",
       "3               no subject  \n",
       "4             Re: Benefits  "
      ]
     },
     "execution_count": 10,
     "metadata": {},
     "output_type": "execute_result"
    }
   ],
   "source": [
    "# clean up the data\n",
    "test_90['Body'] = test_90['Body'].apply(remove_quotes)\n",
    "test_90['email_subject'] = test_90['email_subject'].apply(remove_quotes)\n",
    "test_90['Useful'] = test_90['Useful'].fillna(0.0).astype(int)\n",
    "test_90.head()"
   ]
  },
  {
   "cell_type": "code",
   "execution_count": 11,
   "metadata": {},
   "outputs": [],
   "source": [
    "body_texts = list(test_90['Body'])"
   ]
  },
  {
   "cell_type": "code",
   "execution_count": 12,
   "metadata": {},
   "outputs": [
    {
     "name": "stdout",
     "output_type": "stream",
     "text": [
      "Correctly predicted:  74  out of  91\n",
      "Accuracy:  (81.31868131868131, '% Accuracy')\n"
     ]
    }
   ],
   "source": [
    "y_true = list(test_90['Useful'])\n",
    "y_pred = []\n",
    "count = 0\n",
    "\n",
    "for idx, body_text in zip(range(len(body_texts)), body_texts):\n",
    "    p_count = count_vect.transform([body_text])\n",
    "    p_tfidf = tf_transformer.transform(p_count)\n",
    "    y_predict = calibrated_svc.predict(p_tfidf)\n",
    "    y_pred.extend(y_predict)\n",
    "    if y_predict[0] == y_true[idx]:\n",
    "        count = count + 1\n",
    "acc = (count / len(y_true)) * 100, \"% Accuracy\"\n",
    "print(\"Correctly predicted: \", count, \" out of \", len(y_true))\n",
    "print(\"Accuracy: \", acc)\n"
   ]
  },
  {
   "cell_type": "code",
   "execution_count": null,
   "metadata": {},
   "outputs": [],
   "source": []
  }
 ],
 "metadata": {
  "kernelspec": {
   "display_name": "Python 3",
   "language": "python",
   "name": "python3"
  },
  "language_info": {
   "codemirror_mode": {
    "name": "ipython",
    "version": 3
   },
   "file_extension": ".py",
   "mimetype": "text/x-python",
   "name": "python",
   "nbconvert_exporter": "python",
   "pygments_lexer": "ipython3",
   "version": "3.8.5"
  }
 },
 "nbformat": 4,
 "nbformat_minor": 4
}
