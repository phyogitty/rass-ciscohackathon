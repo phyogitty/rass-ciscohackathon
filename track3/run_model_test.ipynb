{
 "cells": [
  {
   "cell_type": "code",
   "execution_count": 1,
   "metadata": {},
   "outputs": [
    {
     "name": "stdout",
     "output_type": "stream",
     "text": [
      "importing Jupyter notebook from train_data.ipynb\n",
      "Hello\n",
      " TfidfTransformer()\n",
      "<function fitted at 0x7fecc3e44ee0>\n",
      "Average accuracy on test set=0.9677777777777777\n"
     ]
    }
   ],
   "source": [
    "import pickle\n",
    "import pandas as pd\n",
    "import numpy as np\n",
    "from sklearn.feature_extraction.text import CountVectorizer\n",
    "from sklearn.feature_extraction.text import TfidfTransformer\n",
    "import import_ipynb\n",
    "\n",
    "pkl_filename = \"usefulness-classify-model.pkl\"\n",
    "with open(pkl_filename, 'rb') as file:  \n",
    "    pkl_linear_svc = pickle.load(file)\n",
    "\n",
    "X_train_fromCSV = pd.read_csv('x_train.csv')\n",
    "X_train_fromCSV = X_train_fromCSV.set_index('Unnamed: 0')\n",
    "X_train_fromCSV = X_train_fromCSV['Body']\n",
    "# print(X_train_fromCSV.shape, \" \", X_train_fromCSV.dtype)\n",
    "# print(\"tf_transformer shape: \", tf_transformer.shape)\n",
    "# transform the data and predict the usefulness with ML model\n",
    "def predict_usefulness(data):\n",
    "    count_vect_ = CountVectorizer()\n",
    "    X_train_counts_ = count_vect_.fit_transform(X_train_fromCSV)\n",
    "    tf_transformer_ = TfidfTransformer().fit(X_train_counts_)\n",
    "\n",
    "    #c, t = train_data.fitted()\n",
    "    p_count = count_vect_.transform([data])\n",
    "    p_tfidf = tf_transformer_.transform(p_count)\n",
    "    prediction = pkl_linear_svc.predict(p_tfidf)\n",
    "    return prediction[0]"
   ]
  },
  {
   "cell_type": "markdown",
   "metadata": {},
   "source": [
    "<h3>Testing Manually Labeled Data | Number of Emails : 90</h3>"
   ]
  },
  {
   "cell_type": "code",
   "execution_count": 2,
   "metadata": {},
   "outputs": [
    {
     "data": {
      "text/html": [
       "<div>\n",
       "<style scoped>\n",
       "    .dataframe tbody tr th:only-of-type {\n",
       "        vertical-align: middle;\n",
       "    }\n",
       "\n",
       "    .dataframe tbody tr th {\n",
       "        vertical-align: top;\n",
       "    }\n",
       "\n",
       "    .dataframe thead th {\n",
       "        text-align: right;\n",
       "    }\n",
       "</style>\n",
       "<table border=\"1\" class=\"dataframe\">\n",
       "  <thead>\n",
       "    <tr style=\"text-align: right;\">\n",
       "      <th></th>\n",
       "      <th>Useful</th>\n",
       "      <th>Body</th>\n",
       "      <th>email_subject</th>\n",
       "    </tr>\n",
       "  </thead>\n",
       "  <tbody>\n",
       "    <tr>\n",
       "      <th>0</th>\n",
       "      <td>1.0</td>\n",
       "      <td>\"meeting tmr. join webex\"</td>\n",
       "      <td>\"cisco hackathon meeting\"</td>\n",
       "    </tr>\n",
       "    <tr>\n",
       "      <th>1</th>\n",
       "      <td>1.0</td>\n",
       "      <td>\"You are part of the Group 1 student activatio...</td>\n",
       "      <td>\"Important Notification\"</td>\n",
       "    </tr>\n",
       "    <tr>\n",
       "      <th>2</th>\n",
       "      <td>0.0</td>\n",
       "      <td>\"The wait is over—your Robinhood tax document ...</td>\n",
       "      <td>\"Ready to download\"</td>\n",
       "    </tr>\n",
       "    <tr>\n",
       "      <th>3</th>\n",
       "      <td>0.0</td>\n",
       "      <td>\"Hi, We’ve recently launched a new Google Pay ...</td>\n",
       "      <td>NaN</td>\n",
       "    </tr>\n",
       "    <tr>\n",
       "      <th>4</th>\n",
       "      <td>0.0</td>\n",
       "      <td>\"I am sending the documents now.\"</td>\n",
       "      <td>\"Re: Benefits\"</td>\n",
       "    </tr>\n",
       "  </tbody>\n",
       "</table>\n",
       "</div>"
      ],
      "text/plain": [
       "   Useful                                               Body  \\\n",
       "0     1.0                         \"meeting tmr. join webex\"    \n",
       "1     1.0  \"You are part of the Group 1 student activatio...   \n",
       "2     0.0  \"The wait is over—your Robinhood tax document ...   \n",
       "3     0.0  \"Hi, We’ve recently launched a new Google Pay ...   \n",
       "4     0.0                  \"I am sending the documents now.\"   \n",
       "\n",
       "               email_subject  \n",
       "0  \"cisco hackathon meeting\"  \n",
       "1   \"Important Notification\"  \n",
       "2        \"Ready to download\"  \n",
       "3                        NaN  \n",
       "4             \"Re: Benefits\"  "
      ]
     },
     "execution_count": 2,
     "metadata": {},
     "output_type": "execute_result"
    }
   ],
   "source": [
    "test_90 = pd.read_csv('test_90.csv')\n",
    "test_90.head()"
   ]
  },
  {
   "cell_type": "code",
   "execution_count": 3,
   "metadata": {},
   "outputs": [],
   "source": [
    "# a method to remove the double quotes from start and end\n",
    "def remove_quotes(text):\n",
    "    if text is np.nan: \n",
    "        return \"no subject\"\n",
    "    if text != None and type(text) != float:\n",
    "        return text[1:len(text)-1]\n",
    "    return text"
   ]
  },
  {
   "cell_type": "code",
   "execution_count": 4,
   "metadata": {},
   "outputs": [
    {
     "data": {
      "text/html": [
       "<div>\n",
       "<style scoped>\n",
       "    .dataframe tbody tr th:only-of-type {\n",
       "        vertical-align: middle;\n",
       "    }\n",
       "\n",
       "    .dataframe tbody tr th {\n",
       "        vertical-align: top;\n",
       "    }\n",
       "\n",
       "    .dataframe thead th {\n",
       "        text-align: right;\n",
       "    }\n",
       "</style>\n",
       "<table border=\"1\" class=\"dataframe\">\n",
       "  <thead>\n",
       "    <tr style=\"text-align: right;\">\n",
       "      <th></th>\n",
       "      <th>Useful</th>\n",
       "      <th>Body</th>\n",
       "      <th>email_subject</th>\n",
       "    </tr>\n",
       "  </thead>\n",
       "  <tbody>\n",
       "    <tr>\n",
       "      <th>0</th>\n",
       "      <td>1</td>\n",
       "      <td>meeting tmr. join webex\"</td>\n",
       "      <td>cisco hackathon meeting</td>\n",
       "    </tr>\n",
       "    <tr>\n",
       "      <th>1</th>\n",
       "      <td>1</td>\n",
       "      <td>You are part of the Group 1 student activation...</td>\n",
       "      <td>Important Notification</td>\n",
       "    </tr>\n",
       "    <tr>\n",
       "      <th>2</th>\n",
       "      <td>0</td>\n",
       "      <td>The wait is over—your Robinhood tax document i...</td>\n",
       "      <td>Ready to download</td>\n",
       "    </tr>\n",
       "    <tr>\n",
       "      <th>3</th>\n",
       "      <td>0</td>\n",
       "      <td>Hi, We’ve recently launched a new Google Pay a...</td>\n",
       "      <td>no subject</td>\n",
       "    </tr>\n",
       "    <tr>\n",
       "      <th>4</th>\n",
       "      <td>0</td>\n",
       "      <td>I am sending the documents now.</td>\n",
       "      <td>Re: Benefits</td>\n",
       "    </tr>\n",
       "  </tbody>\n",
       "</table>\n",
       "</div>"
      ],
      "text/plain": [
       "   Useful                                               Body  \\\n",
       "0       1                           meeting tmr. join webex\"   \n",
       "1       1  You are part of the Group 1 student activation...   \n",
       "2       0  The wait is over—your Robinhood tax document i...   \n",
       "3       0  Hi, We’ve recently launched a new Google Pay a...   \n",
       "4       0                    I am sending the documents now.   \n",
       "\n",
       "             email_subject  \n",
       "0  cisco hackathon meeting  \n",
       "1   Important Notification  \n",
       "2        Ready to download  \n",
       "3               no subject  \n",
       "4             Re: Benefits  "
      ]
     },
     "execution_count": 4,
     "metadata": {},
     "output_type": "execute_result"
    }
   ],
   "source": [
    "# clean up the data\n",
    "test_90['Body'] = test_90['Body'].apply(remove_quotes)\n",
    "test_90['email_subject'] = test_90['email_subject'].apply(remove_quotes)\n",
    "test_90['Useful'] = test_90['Useful'].fillna(0.0).astype(int)\n",
    "test_90.head()"
   ]
  },
  {
   "cell_type": "code",
   "execution_count": 5,
   "metadata": {},
   "outputs": [],
   "source": [
    "body_texts = list(test_90['Body'])"
   ]
  },
  {
   "cell_type": "code",
   "execution_count": 6,
   "metadata": {},
   "outputs": [
    {
     "name": "stdout",
     "output_type": "stream",
     "text": [
      "Correctly predicted:  79  out of  91\n",
      "Accuracy:  (86.81318681318682, '% Accuracy')\n"
     ]
    }
   ],
   "source": [
    "y_true = list(test_90['Useful'])\n",
    "y_pred = []\n",
    "count = 0\n",
    "\n",
    "for idx, body_text in zip(range(len(body_texts)), body_texts):\n",
    "    y_predict = predict_usefulness(body_text)\n",
    "    y_pred.append(y_predict)\n",
    "    if y_predict == y_true[idx]:\n",
    "        count = count + 1\n",
    "acc = (count / len(y_true)) * 100, \"% Accuracy\"\n",
    "print(\"Correctly predicted: \", count, \" out of \", len(y_true))\n",
    "print(\"Accuracy: \", acc)\n"
   ]
  },
  {
   "cell_type": "code",
   "execution_count": 7,
   "metadata": {},
   "outputs": [
    {
     "data": {
      "text/plain": [
       "1"
      ]
     },
     "execution_count": 7,
     "metadata": {},
     "output_type": "execute_result"
    }
   ],
   "source": [
    "predict_usefulness(\"This is a friendly reminder that you have an interview tomorrow at 10 AM PST over Zoom meeting. Link can be found in the attached file\")"
   ]
  },
  {
   "cell_type": "code",
   "execution_count": 8,
   "metadata": {},
   "outputs": [
    {
     "data": {
      "text/plain": [
       "0"
      ]
     },
     "execution_count": 8,
     "metadata": {},
     "output_type": "execute_result"
    }
   ],
   "source": [
    "predict_usefulness(\"Hey Min, what do you think of last night game? Did you think they could have a better shot?\")"
   ]
  },
  {
   "cell_type": "code",
   "execution_count": 9,
   "metadata": {},
   "outputs": [
    {
     "data": {
      "text/plain": [
       "1"
      ]
     },
     "execution_count": 9,
     "metadata": {},
     "output_type": "execute_result"
    }
   ],
   "source": [
    "predict_usefulness(\"meeting time!!!!!!!\")"
   ]
  },
  {
   "cell_type": "code",
   "execution_count": null,
   "metadata": {},
   "outputs": [],
   "source": []
  }
 ],
 "metadata": {
  "kernelspec": {
   "display_name": "Python 3",
   "language": "python",
   "name": "python3"
  },
  "language_info": {
   "codemirror_mode": {
    "name": "ipython",
    "version": 3
   },
   "file_extension": ".py",
   "mimetype": "text/x-python",
   "name": "python",
   "nbconvert_exporter": "python",
   "pygments_lexer": "ipython3",
   "version": "3.8.5"
  }
 },
 "nbformat": 4,
 "nbformat_minor": 4
}
